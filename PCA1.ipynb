{
 "cells": [
  {
   "cell_type": "markdown",
   "id": "5fcf1237-eafa-47b8-b3fe-7d1df2b987b9",
   "metadata": {},
   "source": [
    "## Reference\n",
    "https://www.kaggle.com/code/mirzarahim/introduction-to-pca-image-compression-example/notebook"
   ]
  },
  {
   "cell_type": "code",
   "execution_count": 62,
   "id": "59f0e3d3-77ac-4069-a74c-c00aa7a495fb",
   "metadata": {},
   "outputs": [],
   "source": [
    "import numpy as np\n",
    "import matplotlib.pyplot as plt   "
   ]
  },
  {
   "cell_type": "code",
   "execution_count": 63,
   "id": "5b6fd64f-e8dc-4b27-a3aa-c4a4785ff743",
   "metadata": {},
   "outputs": [
    {
     "name": "stdout",
     "output_type": "stream",
     "text": [
      "(512, 1000)\n",
      "(1000, 512)\n",
      "(512, 512)\n"
     ]
    }
   ],
   "source": [
    "m = 512\n",
    "n= 1000\n",
    "\n",
    "X = np.random.rand(m,n)\n",
    "print(X.shape)\n",
    "\n",
    "#X = X - np.expand_dims(X.mean(axis=1),axis=1)\n",
    "Z = 1/np.sqrt(n-1)*np.transpose(X)\n",
    "print(Z.shape)\n",
    "\n",
    "Cz = np.matmul(Z.T,Z)\n",
    "print(Cz.shape)"
   ]
  },
  {
   "cell_type": "markdown",
   "id": "cce94cb7-9739-4e13-b81b-d7701586030f",
   "metadata": {},
   "source": [
    "## SVD"
   ]
  },
  {
   "cell_type": "code",
   "execution_count": 64,
   "id": "4bf497ae-54cf-49e6-8d78-fb0e503ab2f0",
   "metadata": {},
   "outputs": [
    {
     "name": "stdout",
     "output_type": "stream",
     "text": [
      "U : (1000, 1000),  S : (512,), Vt : (512, 512)\n",
      "(512,)\n"
     ]
    }
   ],
   "source": [
    "[U,S,Vt] = np.linalg.svd(Z,full_matrices=True, compute_uv=True,hermitian=False)\n",
    "print(\"U : {},  S : {}, Vt : {}\".format(U.shape,S.shape,Vt.shape))\n",
    "\n",
    "# Hadamard product\n",
    "Var= S*S\n",
    "print(Variance.shape)"
   ]
  },
  {
   "cell_type": "code",
   "execution_count": 61,
   "id": "3ba63ece-e0ce-4867-af81-5c6d97150e73",
   "metadata": {},
   "outputs": [
    {
     "data": {
      "text/plain": [
       "[<matplotlib.lines.Line2D at 0x23daa9ca8e0>]"
      ]
     },
     "execution_count": 61,
     "metadata": {},
     "output_type": "execute_result"
    },
    {
     "data": {
      "image/png": "[encoded data removed]",
      "text/plain": [
       "<Figure size 640x480 with 1 Axes>"
      ]
     },
     "metadata": {},
     "output_type": "display_data"
    }
   ],
   "source": [
    "plt.plot(Var)"
   ]
  },
  {
   "cell_type": "markdown",
   "id": "09f0c3b5-74db-4d1a-8f11-a5612e9f5a50",
   "metadata": {},
   "source": [
    "## Recover"
   ]
  },
  {
   "cell_type": "markdown",
   "id": "da5022fd-5a7a-42be-92c9-3d01dcba273b",
   "metadata": {},
   "source": [
    "```MATLAB\n",
    "[eigenvectors, scores] = pca(X);\n",
    "\n",
    "nComp = 2;\n",
    "Xhat = scores(:,1:nComp) * eigenvectors(:,1:nComp)';\n",
    "```"
   ]
  },
  {
   "cell_type": "code",
   "execution_count": 65,
   "id": "1428f88d-ffed-4a1a-8ad2-84cd7bc40ade",
   "metadata": {},
   "outputs": [
    {
     "ename": "NameError",
     "evalue": "name 'pca' is not defined",
     "output_type": "error",
     "traceback": [
      "\u001b[1;31m---------------------------------------------------------------------------\u001b[0m",
      "\u001b[1;31mNameError\u001b[0m                                 Traceback (most recent call last)",
      "\u001b[1;32m~\\AppData\\Local\\Temp\\ipykernel_18516\\3789481641.py\u001b[0m in \u001b[0;36m<module>\u001b[1;34m\u001b[0m\n\u001b[1;32m----> 1\u001b[1;33m \u001b[0mXhat\u001b[0m \u001b[1;33m=\u001b[0m \u001b[0mnp\u001b[0m\u001b[1;33m.\u001b[0m\u001b[0mdot\u001b[0m\u001b[1;33m(\u001b[0m\u001b[0mpca\u001b[0m\u001b[1;33m.\u001b[0m\u001b[0mtransform\u001b[0m\u001b[1;33m(\u001b[0m\u001b[0mX\u001b[0m\u001b[1;33m)\u001b[0m\u001b[1;33m[\u001b[0m\u001b[1;33m:\u001b[0m\u001b[1;33m,\u001b[0m\u001b[1;33m:\u001b[0m\u001b[0mnComp\u001b[0m\u001b[1;33m]\u001b[0m\u001b[1;33m,\u001b[0m \u001b[0mpca\u001b[0m\u001b[1;33m.\u001b[0m\u001b[0mcomponents_\u001b[0m\u001b[1;33m[\u001b[0m\u001b[1;33m:\u001b[0m\u001b[0mnComp\u001b[0m\u001b[1;33m,\u001b[0m\u001b[1;33m:\u001b[0m\u001b[1;33m]\u001b[0m\u001b[1;33m)\u001b[0m\u001b[1;33m\u001b[0m\u001b[1;33m\u001b[0m\u001b[0m\n\u001b[0m",
      "\u001b[1;31mNameError\u001b[0m: name 'pca' is not defined"
     ]
    }
   ],
   "source": [
    "n_comp = 10\n",
    "\n",
    "Xhat = np.dot(pca.transform(X)[:,:nComp], pca.components_[:nComp,:])\n",
    "\n"
   ]
  },
  {
   "cell_type": "code",
   "execution_count": null,
   "id": "68955e79-e70a-4637-b692-241761f700cd",
   "metadata": {},
   "outputs": [],
   "source": []
  },
  {
   "cell_type": "code",
   "execution_count": null,
   "id": "8c781a8c-fa91-4ca1-a645-2ca6dfbe4bb2",
   "metadata": {},
   "outputs": [],
   "source": []
  }
 ],
 "metadata": {
  "kernelspec": {
   "display_name": "Python 3 (ipykernel)",
   "language": "python",
   "name": "python3"
  },
  "language_info": {
   "codemirror_mode": {
    "name": "ipython",
    "version": 3
   },
   "file_extension": ".py",
   "mimetype": "text/x-python",
   "name": "python",
   "nbconvert_exporter": "python",
   "pygments_lexer": "ipython3",
   "version": "3.9.13"
  }
 },
 "nbformat": 4,
 "nbformat_minor": 5
}
